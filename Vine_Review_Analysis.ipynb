{
  "nbformat": 4,
  "nbformat_minor": 0,
  "metadata": {
    "colab": {
      "name": "Vine_Review_Analysis.ipynb",
      "provenance": [],
      "authorship_tag": "ABX9TyPP+h+TZaM73sZKnNesvs7E",
      "include_colab_link": true
    },
    "kernelspec": {
      "name": "python3",
      "display_name": "Python 3"
    },
    "language_info": {
      "name": "python"
    }
  },
  "cells": [
    {
      "cell_type": "markdown",
      "metadata": {
        "id": "view-in-github",
        "colab_type": "text"
      },
      "source": [
        "<a href=\"https://colab.research.google.com/github/darengarciaH/Amazon_Vine_Analysis/blob/main/Vine_Review_Analysis.ipynb\" target=\"_parent\"><img src=\"https://colab.research.google.com/assets/colab-badge.svg\" alt=\"Open In Colab\"/></a>"
      ]
    },
    {
      "cell_type": "code",
      "execution_count": 1,
      "metadata": {
        "colab": {
          "base_uri": "https://localhost:8080/"
        },
        "id": "hIdsZPyleF0-",
        "outputId": "f8ec7c03-9016-4ee3-f11f-0622f0c2986f"
      },
      "outputs": [
        {
          "output_type": "stream",
          "name": "stdout",
          "text": [
            "\r0% [Working]\r            \rIgn:1 https://cloud.r-project.org/bin/linux/ubuntu bionic-cran40/ InRelease\n",
            "\r0% [Connecting to archive.ubuntu.com] [Connecting to security.ubuntu.com (185.1\r                                                                               \rIgn:2 https://developer.download.nvidia.com/compute/cuda/repos/ubuntu1804/x86_64  InRelease\n",
            "Get:3 https://cloud.r-project.org/bin/linux/ubuntu bionic-cran40/ Release [3,089 B]\n",
            "Get:4 http://security.ubuntu.com/ubuntu bionic-security InRelease [88.7 kB]\n",
            "Get:5 http://ppa.launchpad.net/c2d4u.team/c2d4u4.0+/ubuntu bionic InRelease [15.9 kB]\n",
            "Ign:6 https://developer.download.nvidia.com/compute/machine-learning/repos/ubuntu1804/x86_64  InRelease\n",
            "Get:7 https://developer.download.nvidia.com/compute/cuda/repos/ubuntu1804/x86_64  Release [696 B]\n",
            "Get:8 https://cloud.r-project.org/bin/linux/ubuntu bionic-cran40/ Release.gpg [488 B]\n",
            "Hit:9 https://developer.download.nvidia.com/compute/machine-learning/repos/ubuntu1804/x86_64  Release\n",
            "Get:10 https://developer.download.nvidia.com/compute/cuda/repos/ubuntu1804/x86_64  Release.gpg [836 B]\n",
            "Hit:11 http://archive.ubuntu.com/ubuntu bionic InRelease\n",
            "Get:12 http://archive.ubuntu.com/ubuntu bionic-updates InRelease [88.7 kB]\n",
            "Hit:13 http://ppa.launchpad.net/cran/libgit2/ubuntu bionic InRelease\n",
            "Get:14 http://ppa.launchpad.net/deadsnakes/ppa/ubuntu bionic InRelease [15.9 kB]\n",
            "Get:15 http://archive.ubuntu.com/ubuntu bionic-backports InRelease [74.6 kB]\n",
            "Hit:17 http://ppa.launchpad.net/graphics-drivers/ppa/ubuntu bionic InRelease\n",
            "Get:18 https://developer.download.nvidia.com/compute/cuda/repos/ubuntu1804/x86_64  Packages [953 kB]\n",
            "Get:19 http://ppa.launchpad.net/c2d4u.team/c2d4u4.0+/ubuntu bionic/main Sources [1,947 kB]\n",
            "Get:20 http://security.ubuntu.com/ubuntu bionic-security/main amd64 Packages [2,694 kB]\n",
            "Get:21 http://ppa.launchpad.net/c2d4u.team/c2d4u4.0+/ubuntu bionic/main amd64 Packages [996 kB]\n",
            "Get:22 http://security.ubuntu.com/ubuntu bionic-security/universe amd64 Packages [1,490 kB]\n",
            "Get:23 http://archive.ubuntu.com/ubuntu bionic-updates/main amd64 Packages [3,133 kB]\n",
            "Get:24 http://archive.ubuntu.com/ubuntu bionic-updates/universe amd64 Packages [2,268 kB]\n",
            "Get:25 http://ppa.launchpad.net/deadsnakes/ppa/ubuntu bionic/main amd64 Packages [45.3 kB]\n",
            "Fetched 13.8 MB in 8s (1,782 kB/s)\n",
            "Reading package lists... Done\n"
          ]
        }
      ],
      "source": [
        "import os\n",
        "# Find the latest version of spark 3.0 from http://www.apache.org/dist/spark/ and enter as the spark version\n",
        "# For example:\n",
        "# spark_version = 'spark-3.0.3'\n",
        "spark_version = 'spark-3.0.3'\n",
        "os.environ['SPARK_VERSION']=spark_version\n",
        "\n",
        "# Install Spark and Java\n",
        "!apt-get update\n",
        "!apt-get install openjdk-11-jdk-headless -qq > /dev/null\n",
        "!wget -q http://www.apache.org/dist/spark/$SPARK_VERSION/$SPARK_VERSION-bin-hadoop2.7.tgz\n",
        "!tar xf $SPARK_VERSION-bin-hadoop2.7.tgz\n",
        "!pip install -q findspark\n",
        "\n",
        "# Set Environment Variables\n",
        "import os\n",
        "os.environ[\"JAVA_HOME\"] = \"/usr/lib/jvm/java-11-openjdk-amd64\"\n",
        "os.environ[\"SPARK_HOME\"] = f\"/content/{spark_version}-bin-hadoop2.7\"\n",
        "\n",
        "# Start a SparkSession\n",
        "import findspark\n",
        "findspark.init()"
      ]
    },
    {
      "cell_type": "code",
      "source": [
        "# Start Spark session\n",
        "from pyspark.sql import SparkSession\n",
        "spark = SparkSession.builder.appName(\"sparkFunctions\").getOrCreate()"
      ],
      "metadata": {
        "id": "i2-8w7CSeuoF"
      },
      "execution_count": 2,
      "outputs": []
    },
    {
      "cell_type": "code",
      "source": [
        "from pyspark import SparkFiles\n",
        "url = \"https://s3.amazonaws.com/amazon-reviews-pds/tsv/amazon_reviews_us_Outdoors_v1_00.tsv.gz\"\n",
        "spark.sparkContext.addFile(url)\n",
        "df = spark.read.option(\"encoding\", \"UTF-8\").csv(SparkFiles.get(\"\"), sep=\"\\t\", header=True, inferSchema=True)\n",
        "df.show()"
      ],
      "metadata": {
        "colab": {
          "base_uri": "https://localhost:8080/"
        },
        "id": "CX5IUqj0eywI",
        "outputId": "54b9b0e0-e2a3-43a6-b3fa-a436f289f264"
      },
      "execution_count": 3,
      "outputs": [
        {
          "output_type": "stream",
          "name": "stdout",
          "text": [
            "+-----------+-----------+--------------+----------+--------------+--------------------+----------------+-----------+-------------+-----------+----+-----------------+--------------------+--------------------+-----------+\n",
            "|marketplace|customer_id|     review_id|product_id|product_parent|       product_title|product_category|star_rating|helpful_votes|total_votes|vine|verified_purchase|     review_headline|         review_body|review_date|\n",
            "+-----------+-----------+--------------+----------+--------------+--------------------+----------------+-----------+-------------+-----------+----+-----------------+--------------------+--------------------+-----------+\n",
            "|         US|   18446823|R35T75OLUGHL5C|B000NV6H94|     110804376|Stearns Youth Boa...|        Outdoors|          4|            0|          0|   N|                Y|          Four Stars|          GOOD VALUE| 2015-08-31|\n",
            "|         US|   13724367|R2BV735O46BN33|B000IN0W3Y|     624096774|Primal Wear Men's...|        Outdoors|          5|            0|          0|   N|                Y|          Five Stars|  Excellent quality.| 2015-08-31|\n",
            "|         US|   51001958|R2NBEUGPQQGXP1|B008RBJXFM|     278970944|Osprey Hydraulics...|        Outdoors|          4|            0|          0|   N|                Y|Only Flaw Is The Cap|3rd season using ...| 2015-08-31|\n",
            "|         US|   32866903|R17LLAOJ8ITK0S|B00FK8WUQY|     312877650|CamelBak eddy .75...|        Outdoors|          3|            1|          1|   N|                Y|Poor design leads...|poor construction...| 2015-08-31|\n",
            "|         US|   30907790|R39PEQBT5ISEF4|B00EZA3VW0|     305567912|Children Black Re...|        Outdoors|          1|            0|          0|   N|                Y|Very bad quality,...|Very bad quality,...| 2015-08-31|\n",
            "|         US|   20232229|R3GNM3SU9VHJFT|B006JA8WEG|     842306035|Ibera Bicycle Tri...|        Outdoors|          4|            1|          1|   N|                Y|Nice bag. Should ...|Nice bag. Should ...| 2015-08-31|\n",
            "|         US|   17698862| R2Y81OP0EK467|B002PWFSEO|     451480122|Therm-a-Rest Comp...|        Outdoors|          5|            0|          0|   N|                Y|Very comfortable ...|Gave this to my s...| 2015-08-31|\n",
            "|         US|   38486114|R2LFGSI6HAYH5F|B002DZGKHW|     124386306|Sawyer Products P...|        Outdoors|          5|            1|          1|   N|                Y| Worked like a charm|Went on vacation ...| 2015-08-31|\n",
            "|         US|   26319572|R297G6ED1IQO7W|B00ABA08F6|     991442421|Zippo Hand Warmer...|        Outdoors|          5|            1|          1|   N|                Y|Great item. Gets ...|Great item. Gets ...| 2015-08-31|\n",
            "|         US|   27152337| RE27RFC6101N6|B003Z8WIHC|     886483892|Camp Chef Dutch O...|        Outdoors|          5|            0|          0|   N|                Y|Great value for t...|I am so glad I bo...| 2015-08-31|\n",
            "|         US|   12516845|R3BPDME6E94W8Z|B007CP6UK0|     150224054|3CERA Portable Wi...|        Outdoors|          5|            0|          0|   N|                Y|          Five Stars|        good to have| 2015-08-31|\n",
            "|         US|    3225242|R2P08O1RILUOX3|B003V3U9JK|     343847969|Texsport King Kot...|        Outdoors|          3|            0|          0|   N|                Y|Cot set up inconv...|VERY difficult to...| 2015-08-31|\n",
            "|         US|     961839|R37CVAB03PTDVI|B00Y846HN8|     858088629|Wallygadgets 2 Wh...|        Outdoors|          5|            0|          1|   N|                Y|          Five Stars|Thanks excellent ...| 2015-08-31|\n",
            "|         US|   47796452| RAWNWOGXPCPMD|B00IYQ84VY|     474493517|RainStoppers 34-I...|        Outdoors|          5|            0|          0|   N|                Y|          Five Stars|This umbrella is ...| 2015-08-31|\n",
            "|         US|   32004835| R5DYGP6ASX77M|B002MYCKLY|     920014456|Alpha Deluxe Port...|        Outdoors|          5|            0|          0|   N|                Y|          Five Stars|Love it !! I even...| 2015-08-31|\n",
            "|         US|   23972939|R1O0SAOOGF2KG7|B00EZV69JG|     128489321|Speedfil Z4 BTA B...|        Outdoors|          4|            0|          0|   N|                Y|        Good enough.|This is a fine mo...| 2015-08-31|\n",
            "|         US|   40889047|R35NJUT0U3MU3V|B00AWOT3T8|     571303876|O'Brien Kids Plat...|        Outdoors|          5|            0|          0|   N|                Y| Got Up on First Try|We just bought th...| 2015-08-31|\n",
            "|         US|   11244387|R242C08MF9D1AH|B0000AXTID|     739769424|Kwik-Tek F-5R Pla...|        Outdoors|          5|            0|          0|   N|                Y|They go over an a...|I have these on m...| 2015-08-31|\n",
            "|         US|   20121211| R3RYG8TJTO4E2|B00IFHFJXI|     984009972|Ivation Portable ...|        Outdoors|          5|            0|          0|   N|                Y|Greatest Item I b...|This is the best ...| 2015-08-31|\n",
            "|         US|   25657249|R3IKH1DNY0CP9F|B00KFILTWU|     405521681|GreenInsync Repla...|        Outdoors|          2|            0|          0|   N|                Y|I received this p...|I received this p...| 2015-08-31|\n",
            "+-----------+-----------+--------------+----------+--------------+--------------------+----------------+-----------+-------------+-----------+----+-----------------+--------------------+--------------------+-----------+\n",
            "only showing top 20 rows\n",
            "\n"
          ]
        }
      ]
    },
    {
      "cell_type": "code",
      "source": [
        "from pyspark.sql.functions import to_date\n",
        "# Read in the Review dataset as a DataFrame"
      ],
      "metadata": {
        "id": "n-MqHKWEe34-"
      },
      "execution_count": 5,
      "outputs": []
    },
    {
      "cell_type": "code",
      "source": [
        "# Create the vine_table. DataFrame\n",
        "vine_df = df.select([\"review_id\", \"star_rating\", \"helpful_votes\", \"total_votes\", \"vine\", \"verified_purchase\"])\n",
        "print(vine_df.count())\n",
        "vine_df.show(50)"
      ],
      "metadata": {
        "colab": {
          "base_uri": "https://localhost:8080/"
        },
        "id": "2v9BKYAhe7Tc",
        "outputId": "45419101-2b07-46ad-ccc0-f592da059cd2"
      },
      "execution_count": 6,
      "outputs": [
        {
          "output_type": "stream",
          "name": "stdout",
          "text": [
            "2302401\n",
            "+--------------+-----------+-------------+-----------+----+-----------------+\n",
            "|     review_id|star_rating|helpful_votes|total_votes|vine|verified_purchase|\n",
            "+--------------+-----------+-------------+-----------+----+-----------------+\n",
            "|R35T75OLUGHL5C|          4|            0|          0|   N|                Y|\n",
            "|R2BV735O46BN33|          5|            0|          0|   N|                Y|\n",
            "|R2NBEUGPQQGXP1|          4|            0|          0|   N|                Y|\n",
            "|R17LLAOJ8ITK0S|          3|            1|          1|   N|                Y|\n",
            "|R39PEQBT5ISEF4|          1|            0|          0|   N|                Y|\n",
            "|R3GNM3SU9VHJFT|          4|            1|          1|   N|                Y|\n",
            "| R2Y81OP0EK467|          5|            0|          0|   N|                Y|\n",
            "|R2LFGSI6HAYH5F|          5|            1|          1|   N|                Y|\n",
            "|R297G6ED1IQO7W|          5|            1|          1|   N|                Y|\n",
            "| RE27RFC6101N6|          5|            0|          0|   N|                Y|\n",
            "|R3BPDME6E94W8Z|          5|            0|          0|   N|                Y|\n",
            "|R2P08O1RILUOX3|          3|            0|          0|   N|                Y|\n",
            "|R37CVAB03PTDVI|          5|            0|          1|   N|                Y|\n",
            "| RAWNWOGXPCPMD|          5|            0|          0|   N|                Y|\n",
            "| R5DYGP6ASX77M|          5|            0|          0|   N|                Y|\n",
            "|R1O0SAOOGF2KG7|          4|            0|          0|   N|                Y|\n",
            "|R35NJUT0U3MU3V|          5|            0|          0|   N|                Y|\n",
            "|R242C08MF9D1AH|          5|            0|          0|   N|                Y|\n",
            "| R3RYG8TJTO4E2|          5|            0|          0|   N|                Y|\n",
            "|R3IKH1DNY0CP9F|          2|            0|          0|   N|                Y|\n",
            "| R2VYLXC4Y5W9B|          4|            0|          0|   N|                Y|\n",
            "|R2XYF9PCISPHE8|          1|            1|          1|   N|                Y|\n",
            "| RD10YF7LLTGCQ|          5|            1|          1|   N|                Y|\n",
            "|R3BP9FH2B0TWQM|          5|            0|          0|   N|                Y|\n",
            "|R3T2O33JE2I6IS|          1|            1|          1|   N|                Y|\n",
            "| RTJJ56O8ZPBPQ|          4|            1|          1|   N|                Y|\n",
            "| RQV06DUVJRXBX|          5|            0|          0|   N|                N|\n",
            "|R2FM18IYOYV53R|          4|            1|          1|   N|                Y|\n",
            "|R28ZMA9O2W8LUD|          5|            0|          1|   N|                Y|\n",
            "|  REU5E8A34P3R|          5|            5|          5|   N|                Y|\n",
            "|R249AANTRANRPC|          5|            0|          0|   N|                Y|\n",
            "| R471YIJZQB95N|          5|            0|          0|   N|                Y|\n",
            "|R3RZ58278X6JD0|          4|            0|          0|   N|                N|\n",
            "| R1BH2W37VZYPZ|          5|            0|          0|   N|                Y|\n",
            "|R28G2K73UJM699|          5|            0|          0|   N|                Y|\n",
            "|R3DTG81EC47URI|          5|            0|          0|   N|                Y|\n",
            "|R1YBKCFUB4JKJM|          5|            0|          0|   N|                Y|\n",
            "|  RYD2DK0NF7RA|          5|            0|          0|   N|                Y|\n",
            "|R3TDKTU7HDDMCC|          5|            0|          0|   N|                Y|\n",
            "|R219YPNJ2TD0H1|          5|            0|          0|   N|                Y|\n",
            "| R7K6TDJCHDB3A|          4|            0|          1|   N|                Y|\n",
            "|R1M91IT6BX95AN|          5|            0|          0|   N|                Y|\n",
            "|R2UNONMK65ED90|          5|            0|          0|   N|                Y|\n",
            "| ROTPBGOA7APID|          5|            0|          0|   N|                Y|\n",
            "|R3PREZF2TJAPTV|          5|            0|          0|   N|                Y|\n",
            "|R2E0R98FDIOKQR|          4|            0|          0|   N|                Y|\n",
            "|R1530MPC21BBVP|          3|            0|          0|   N|                Y|\n",
            "|R227SVLY0PIZL0|          5|            2|          2|   N|                Y|\n",
            "|R1UWV7IQHBD0ZS|          5|            0|          0|   N|                Y|\n",
            "|R2FSEHZ4P5LDW8|          5|            0|          0|   N|                Y|\n",
            "+--------------+-----------+-------------+-----------+----+-----------------+\n",
            "only showing top 50 rows\n",
            "\n"
          ]
        }
      ]
    },
    {
      "cell_type": "code",
      "source": [
        "# 1. Filter the data and create a new DataFrame or table to retrieve all the rows where the total_votes count is equal to or greater than 20 to pick reviews \n",
        "# that are more likely to be helpful and to avoid having division by zero errors later on.\n",
        "vine_20_more_df = vine_df.filter(\"total_votes>=20\")\n",
        "vine_20_more_df.show()"
      ],
      "metadata": {
        "colab": {
          "base_uri": "https://localhost:8080/"
        },
        "id": "Svz00KJ9fFmE",
        "outputId": "1c1ec29c-fffb-425a-974c-acef89118153"
      },
      "execution_count": 8,
      "outputs": [
        {
          "output_type": "stream",
          "name": "stdout",
          "text": [
            "+--------------+-----------+-------------+-----------+----+-----------------+\n",
            "|     review_id|star_rating|helpful_votes|total_votes|vine|verified_purchase|\n",
            "+--------------+-----------+-------------+-----------+----+-----------------+\n",
            "|R2FP3U4NHNFNL2|          5|           25|         29|   N|                Y|\n",
            "|R1UUK1977O38MU|          5|           31|         31|   N|                Y|\n",
            "| RXO216LWUDV6O|          3|           29|         31|   N|                Y|\n",
            "|R3NMJF7EBMM19V|          3|           26|         27|   N|                Y|\n",
            "|R2ZY0ZBDUO0XUY|          3|           20|         21|   N|                Y|\n",
            "| RBDVHX7PMQEKM|          5|           35|         39|   N|                Y|\n",
            "| RGO3KSDXYWTGU|          4|           26|         26|   N|                Y|\n",
            "|R2O4P39D0ALCQK|          2|           14|         43|   N|                Y|\n",
            "|R1E1PQGHWGO3Q1|          1|           89|         96|   N|                Y|\n",
            "|R1XOXXUVYZEDJB|          5|           22|         22|   N|                Y|\n",
            "| R7SHITUU5UG9U|          5|           27|         27|   N|                Y|\n",
            "|R230TLHU91M5Y3|          4|           21|         21|   N|                Y|\n",
            "| RHR5MKO23K9TU|          5|           26|         30|   N|                Y|\n",
            "|R1HGK3TCY161D7|          5|           52|         55|   N|                N|\n",
            "|R340QYAVNZZHJA|          4|           25|         25|   N|                N|\n",
            "|R2F1UVQK0JL4QH|          3|           20|         20|   N|                Y|\n",
            "|R1N21UY546VWMN|          2|           48|         50|   N|                Y|\n",
            "|R1E4L344EK0ZOT|          5|           20|         26|   N|                N|\n",
            "|R282QUZDDJW3ON|          4|           45|         49|   N|                Y|\n",
            "|R3H5T3T7QY3ZL2|          5|          247|        263|   N|                Y|\n",
            "+--------------+-----------+-------------+-----------+----+-----------------+\n",
            "only showing top 20 rows\n",
            "\n"
          ]
        }
      ]
    },
    {
      "cell_type": "code",
      "source": [
        "# 2. Filter the new DataFrame or table created in Step 1 and create a new DataFrame or table to \n",
        "#retrieve all the rows where the number of helpful_votes divided by total_votes is equal to or greater than 50%.\n",
        "helpful_vine_df = vine_20_more_df.filter(\"helpful_votes/total_votes>.5\")\n",
        "print(helpful_vine_df.count())\n",
        "helpful_vine_df.show(20)"
      ],
      "metadata": {
        "colab": {
          "base_uri": "https://localhost:8080/"
        },
        "id": "xQ-g6jrofHQi",
        "outputId": "63bc7c80-b32d-48bd-b4ad-2d11246387a9"
      },
      "execution_count": 9,
      "outputs": [
        {
          "output_type": "stream",
          "name": "stdout",
          "text": [
            "39875\n",
            "+--------------+-----------+-------------+-----------+----+-----------------+\n",
            "|     review_id|star_rating|helpful_votes|total_votes|vine|verified_purchase|\n",
            "+--------------+-----------+-------------+-----------+----+-----------------+\n",
            "|R2FP3U4NHNFNL2|          5|           25|         29|   N|                Y|\n",
            "|R1UUK1977O38MU|          5|           31|         31|   N|                Y|\n",
            "| RXO216LWUDV6O|          3|           29|         31|   N|                Y|\n",
            "|R3NMJF7EBMM19V|          3|           26|         27|   N|                Y|\n",
            "|R2ZY0ZBDUO0XUY|          3|           20|         21|   N|                Y|\n",
            "| RBDVHX7PMQEKM|          5|           35|         39|   N|                Y|\n",
            "| RGO3KSDXYWTGU|          4|           26|         26|   N|                Y|\n",
            "|R1E1PQGHWGO3Q1|          1|           89|         96|   N|                Y|\n",
            "|R1XOXXUVYZEDJB|          5|           22|         22|   N|                Y|\n",
            "| R7SHITUU5UG9U|          5|           27|         27|   N|                Y|\n",
            "|R230TLHU91M5Y3|          4|           21|         21|   N|                Y|\n",
            "| RHR5MKO23K9TU|          5|           26|         30|   N|                Y|\n",
            "|R1HGK3TCY161D7|          5|           52|         55|   N|                N|\n",
            "|R340QYAVNZZHJA|          4|           25|         25|   N|                N|\n",
            "|R2F1UVQK0JL4QH|          3|           20|         20|   N|                Y|\n",
            "|R1N21UY546VWMN|          2|           48|         50|   N|                Y|\n",
            "|R1E4L344EK0ZOT|          5|           20|         26|   N|                N|\n",
            "|R282QUZDDJW3ON|          4|           45|         49|   N|                Y|\n",
            "|R3H5T3T7QY3ZL2|          5|          247|        263|   N|                Y|\n",
            "|R3W1A1P95IIGHX|          5|           23|         25|   N|                N|\n",
            "+--------------+-----------+-------------+-----------+----+-----------------+\n",
            "only showing top 20 rows\n",
            "\n"
          ]
        }
      ]
    },
    {
      "cell_type": "code",
      "source": [
        "# 3. Filter the DataFrame or table created in Step 2, and create a new DataFrame or table that retrieves all the rows \n",
        "#where a review was written as part of the Vine program (paid), vine == 'Y'.\n",
        "\n",
        "helpful_vine_prg_df = helpful_vine_df.filter(\"vine=='Y'\")\n",
        "print(helpful_vine_prg_df.count())\n",
        "helpful_vine_prg_df.show(25)"
      ],
      "metadata": {
        "colab": {
          "base_uri": "https://localhost:8080/"
        },
        "id": "r6OUoyx3fHTX",
        "outputId": "1ec159be-6472-440a-d242-51f1365eb8b4"
      },
      "execution_count": 10,
      "outputs": [
        {
          "output_type": "stream",
          "name": "stdout",
          "text": [
            "107\n",
            "+--------------+-----------+-------------+-----------+----+-----------------+\n",
            "|     review_id|star_rating|helpful_votes|total_votes|vine|verified_purchase|\n",
            "+--------------+-----------+-------------+-----------+----+-----------------+\n",
            "|R3KPC0NBUDASX3|          5|           25|         25|   Y|                N|\n",
            "|R119P2A95GGXX4|          5|           26|         28|   Y|                N|\n",
            "|R1HKIRME8AJ89Z|          5|           79|         82|   Y|                N|\n",
            "|R3FY3GMBGOBR22|          5|           12|         20|   Y|                N|\n",
            "|R15KH3FBSVYGBU|          5|           32|         37|   Y|                N|\n",
            "|R22XZEQLVLWW49|          5|           28|         33|   Y|                N|\n",
            "|R2OIQYVAL9D63R|          4|           59|         65|   Y|                N|\n",
            "|R1W3KCDHM6BMZT|          4|           37|         38|   Y|                N|\n",
            "|R3KDMPS96IJ10R|          2|           15|         21|   Y|                N|\n",
            "|R1XWEI58A7VKLB|          5|          123|        128|   Y|                N|\n",
            "|R1CJWM6CMWKSA1|          4|           31|         33|   Y|                N|\n",
            "|R39I3FUDBKZM3Y|          5|           34|         38|   Y|                N|\n",
            "|R32LU0KSL7QWSF|          5|           35|         37|   Y|                N|\n",
            "|R2LGDXO3MG2WQW|          5|           37|         41|   Y|                N|\n",
            "|R16AVI2NTYWLKI|          5|           31|         33|   Y|                N|\n",
            "|R12K0ITIV6AYM3|          5|           34|         34|   Y|                N|\n",
            "| R9ILZLNNK93CO|          5|           38|         39|   Y|                N|\n",
            "|R1CS8VSI1KSR1P|          5|           21|         22|   Y|                N|\n",
            "|R186TCIH8TEGPY|          5|           40|         43|   Y|                N|\n",
            "| R3GBQRR2GY4SP|          4|          119|        125|   Y|                N|\n",
            "| RHECZSD3E6AQN|          3|           20|         22|   Y|                N|\n",
            "| RBSARMUFCR1Q1|          4|           30|         37|   Y|                N|\n",
            "| RQ9QK6O9A3LNP|          5|           21|         24|   Y|                N|\n",
            "|R2BMUF2FNT2QWA|          4|           77|         81|   Y|                N|\n",
            "| RQBJF0A5KW4XC|          5|           50|         54|   Y|                N|\n",
            "+--------------+-----------+-------------+-----------+----+-----------------+\n",
            "only showing top 25 rows\n",
            "\n"
          ]
        }
      ]
    },
    {
      "cell_type": "code",
      "source": [
        "#4. Repeat Step 3, but this time retrieve all the rows where the review was not part of the Vine program (unpaid), vine == 'N'.\n",
        "\n",
        "helpful_notvine_prg_df = helpful_vine_df.filter(\"vine=='N'\")\n",
        "print(helpful_notvine_prg_df.count())\n",
        "helpful_notvine_prg_df.show(25)"
      ],
      "metadata": {
        "colab": {
          "base_uri": "https://localhost:8080/"
        },
        "id": "I9LHi-xpfHW-",
        "outputId": "4cf0b152-4bb8-443c-97e3-69f5b4f0457a"
      },
      "execution_count": 11,
      "outputs": [
        {
          "output_type": "stream",
          "name": "stdout",
          "text": [
            "39768\n",
            "+--------------+-----------+-------------+-----------+----+-----------------+\n",
            "|     review_id|star_rating|helpful_votes|total_votes|vine|verified_purchase|\n",
            "+--------------+-----------+-------------+-----------+----+-----------------+\n",
            "|R2FP3U4NHNFNL2|          5|           25|         29|   N|                Y|\n",
            "|R1UUK1977O38MU|          5|           31|         31|   N|                Y|\n",
            "| RXO216LWUDV6O|          3|           29|         31|   N|                Y|\n",
            "|R3NMJF7EBMM19V|          3|           26|         27|   N|                Y|\n",
            "|R2ZY0ZBDUO0XUY|          3|           20|         21|   N|                Y|\n",
            "| RBDVHX7PMQEKM|          5|           35|         39|   N|                Y|\n",
            "| RGO3KSDXYWTGU|          4|           26|         26|   N|                Y|\n",
            "|R1E1PQGHWGO3Q1|          1|           89|         96|   N|                Y|\n",
            "|R1XOXXUVYZEDJB|          5|           22|         22|   N|                Y|\n",
            "| R7SHITUU5UG9U|          5|           27|         27|   N|                Y|\n",
            "|R230TLHU91M5Y3|          4|           21|         21|   N|                Y|\n",
            "| RHR5MKO23K9TU|          5|           26|         30|   N|                Y|\n",
            "|R1HGK3TCY161D7|          5|           52|         55|   N|                N|\n",
            "|R340QYAVNZZHJA|          4|           25|         25|   N|                N|\n",
            "|R2F1UVQK0JL4QH|          3|           20|         20|   N|                Y|\n",
            "|R1N21UY546VWMN|          2|           48|         50|   N|                Y|\n",
            "|R1E4L344EK0ZOT|          5|           20|         26|   N|                N|\n",
            "|R282QUZDDJW3ON|          4|           45|         49|   N|                Y|\n",
            "|R3H5T3T7QY3ZL2|          5|          247|        263|   N|                Y|\n",
            "|R3W1A1P95IIGHX|          5|           23|         25|   N|                N|\n",
            "| RN2B68SF5XGIE|          3|           79|         85|   N|                Y|\n",
            "|R1UCC2JOR6WPK0|          5|           20|         22|   N|                Y|\n",
            "|R38K01N5VVT7BN|          5|           21|         21|   N|                N|\n",
            "|R3UR0ESO5IJ5LS|          3|           48|         54|   N|                N|\n",
            "|R2JIG216P4XBL1|          4|           22|         22|   N|                Y|\n",
            "+--------------+-----------+-------------+-----------+----+-----------------+\n",
            "only showing top 25 rows\n",
            "\n"
          ]
        }
      ]
    },
    {
      "cell_type": "code",
      "source": [
        "#5. Determine the total number of reviews, the number of 5-star reviews, and the percentage of 5-star reviews for the two types of review (paid vs unpaid).\n",
        "total_reviews = helpful_vine_df.count()\n",
        "five_star_reviews = helpful_vine_df.filter(helpful_vine_df[\"star_rating\"]==5).count()\n",
        "paid_reviews_count = helpful_vine_prg_df.count()\n",
        "paid_reviews_fivestar = helpful_vine_prg_df.filter(helpful_vine_prg_df[\"star_rating\"]==5).count()\n",
        "pct_paid_reviews_5star = format((paid_reviews_fivestar/paid_reviews_count), '.2%') \n",
        "unpaid_reviews_count = helpful_notvine_prg_df.count()\n",
        "unpaid_reviews_fivestar = helpful_notvine_prg_df.filter(helpful_notvine_prg_df[\"star_rating\"]==5).count()\n",
        "pct_unpaid_reviews_5star = format((unpaid_reviews_fivestar/unpaid_reviews_count), '.2%')"
      ],
      "metadata": {
        "id": "53aWVb84fQnK"
      },
      "execution_count": 12,
      "outputs": []
    },
    {
      "cell_type": "code",
      "source": [
        ""
      ],
      "metadata": {
        "colab": {
          "base_uri": "https://localhost:8080/"
        },
        "id": "peGoVZrff8Xe",
        "outputId": "dc339f46-c46d-45eb-e5d1-c5bc87774ef2"
      },
      "execution_count": 13,
      "outputs": [
        {
          "output_type": "stream",
          "name": "stdout",
          "text": [
            "There were 39875 total reviews (only reviews with 20 or more votes and over 50% helpful were counted)\n",
            "Of that total, 21046 were 5 stars\n",
            "Of the 107 paid reviews, 52.34% of those votes were 5 stars\n",
            "Of the 39768 unpaid reviews, 52.78% of those votes were 5 stars\n"
          ]
        }
      ]
    }
  ]
}